{
 "cells": [
  {
   "attachments": {},
   "cell_type": "markdown",
   "metadata": {},
   "source": [
    "## Creating a function"
   ]
  },
  {
   "cell_type": "code",
   "execution_count": 15,
   "metadata": {},
   "outputs": [
    {
     "name": "stdout",
     "output_type": "stream",
     "text": [
      "Hello World\n"
     ]
    }
   ],
   "source": [
    "def my_func(param1):\n",
    "    print(param1)\n",
    "\n",
    "\n",
    "my_func(\"Hello World\")"
   ]
  },
  {
   "cell_type": "code",
   "execution_count": 17,
   "metadata": {},
   "outputs": [
    {
     "name": "stdout",
     "output_type": "stream",
     "text": [
      "Hello Matheus, how are you?\n"
     ]
    }
   ],
   "source": [
    "def call(name):\n",
    "    print(\"Hello \" + name + \", how are you?\")\n",
    "\n",
    "\n",
    "call(\"Matheus\")"
   ]
  },
  {
   "cell_type": "code",
   "execution_count": 25,
   "metadata": {},
   "outputs": [
    {
     "name": "stdout",
     "output_type": "stream",
     "text": [
      "Hello default user, how are you?\n",
      "Hello Matheus, how are you?\n"
     ]
    }
   ],
   "source": [
    "def call(name = \"default user\"):\n",
    "    print(\"Hello \" + name + \", how are you?\")\n",
    "\n",
    "\n",
    "call()\n",
    "\n",
    "call(\"Matheus\")"
   ]
  },
  {
   "cell_type": "code",
   "execution_count": 44,
   "metadata": {},
   "outputs": [
    {
     "name": "stdout",
     "output_type": "stream",
     "text": [
      "4\n"
     ]
    },
    {
     "data": {
      "text/plain": [
       "4"
      ]
     },
     "execution_count": 44,
     "metadata": {},
     "output_type": "execute_result"
    }
   ],
   "source": [
    "def print_square(num):\n",
    "    print(num ** 2)\n",
    "\n",
    "def set_square(num):\n",
    "    return num ** 2\n",
    "\n",
    "output = print_square(2)    # Print the value at the console\n",
    "\n",
    "output = set_square(2)      # Set the value at the variable\n",
    "output"
   ]
  },
  {
   "cell_type": "code",
   "execution_count": 48,
   "metadata": {},
   "outputs": [],
   "source": [
    "def function_with_doc():\n",
    "    \"\"\"\n",
    "    THIS IS A DOCSTRING\n",
    "    \"\"\"\n",
    "    print(\"Anything\")\n"
   ]
  }
 ],
 "metadata": {
  "kernelspec": {
   "display_name": "Python 3",
   "language": "python",
   "name": "python3"
  },
  "language_info": {
   "codemirror_mode": {
    "name": "ipython",
    "version": 3
   },
   "file_extension": ".py",
   "mimetype": "text/x-python",
   "name": "python",
   "nbconvert_exporter": "python",
   "pygments_lexer": "ipython3",
   "version": "3.10.9"
  },
  "orig_nbformat": 4,
  "vscode": {
   "interpreter": {
    "hash": "916dbcbb3f70747c44a77c7bcd40155683ae19c65e1c03b4aa3499c5328201f1"
   }
  }
 },
 "nbformat": 4,
 "nbformat_minor": 2
}
