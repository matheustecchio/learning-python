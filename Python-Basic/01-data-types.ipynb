{
 "cells": [
  {
   "attachments": {},
   "cell_type": "markdown",
   "metadata": {},
   "source": [
    "## Variable examples"
   ]
  },
  {
   "cell_type": "code",
   "execution_count": 4,
   "metadata": {},
   "outputs": [],
   "source": [
    "int = 1\n",
    "float = 1.5\n",
    "str = \"string\"\n",
    "list = [1, 2, 3, 4, 5]\n",
    "tuple = (1, 2, 3, 4, 5)\n",
    "dictionary = {\"key1\":\"bK3h%UJd&\", \"key2\":\"Jl1&oPa\"}\n",
    "set = {1, 1, 1, 2, 2, 2, 3, 3, 3}"
   ]
  },
  {
   "attachments": {},
   "cell_type": "markdown",
   "metadata": {},
   "source": [
    "## .format examples"
   ]
  },
  {
   "cell_type": "code",
   "execution_count": 13,
   "metadata": {},
   "outputs": [
    {
     "name": "stdout",
     "output_type": "stream",
     "text": [
      "My name is Matheus and my age is 19, yes 19.\n",
      "My name is Matheus and my age is 19, yes 19.\n",
      "My name is Matheus and my age is 19 yes, 19.\n",
      "My name is Matheus and my age is 19, yes 19.\n"
     ]
    }
   ],
   "source": [
    "name = \"Matheus\"\n",
    "age = 19\n",
    "\n",
    "print(\"My name is {} and my age is {}, yes {}.\".format(name, age, age))\n",
    "# or\n",
    "print(\"My name is {one} and my age is {two}, yes {two}.\".format(one = name, two = age))\n",
    "# or\n",
    "print(\"My name is \" + name + \" and my age is \" + str(age) + \" yes, \" + str(age) + \".\")"
   ]
  },
  {
   "attachments": {},
   "cell_type": "markdown",
   "metadata": {},
   "source": [
    "## Select characters at string"
   ]
  },
  {
   "cell_type": "code",
   "execution_count": 2,
   "metadata": {},
   "outputs": [
    {
     "name": "stdout",
     "output_type": "stream",
     "text": [
      "Matheu\n",
      "atheus Tecchio\n",
      "atheu\n"
     ]
    }
   ],
   "source": [
    "my_name = \"Matheus Tecchio\"\n",
    "print(my_name[:6])\n",
    "print(my_name[1:])\n",
    "print(my_name[1:6])"
   ]
  },
  {
   "attachments": {},
   "cell_type": "markdown",
   "metadata": {},
   "source": [
    "## List examples"
   ]
  },
  {
   "cell_type": "code",
   "execution_count": 9,
   "metadata": {},
   "outputs": [
    {
     "name": "stdout",
     "output_type": "stream",
     "text": [
      "['a', 'b', 'c', 'd']\n",
      "['b', 'c']\n",
      "['a', 'b', 'c', 'd', 'ADD']\n",
      "['a', 'REPLACE', 'c', 'd', 'ADD']\n"
     ]
    }
   ],
   "source": [
    "my_list = [\"a\", \"b\", \"c\", \"d\"]\n",
    "print(my_list)\n",
    "\n",
    "print(my_list[1:3])         # Select value at list\n",
    "\n",
    "my_list.append(\"ADD\")       # Add object on list\n",
    "print(my_list)\n",
    "\n",
    "my_list[1] = \"REPLACE\"      # Replace object on list\n",
    "print(my_list)"
   ]
  },
  {
   "attachments": {},
   "cell_type": "markdown",
   "metadata": {},
   "source": [
    "## Tuple examples"
   ]
  },
  {
   "cell_type": "code",
   "execution_count": 6,
   "metadata": {},
   "outputs": [
    {
     "ename": "TypeError",
     "evalue": "'tuple' object does not support item assignment",
     "output_type": "error",
     "traceback": [
      "\u001b[0;31m---------------------------------------------------------------------------\u001b[0m",
      "\u001b[0;31mTypeError\u001b[0m                                 Traceback (most recent call last)",
      "Cell \u001b[0;32mIn[6], line 2\u001b[0m\n\u001b[1;32m      1\u001b[0m my_tuple \u001b[39m=\u001b[39m (\u001b[39m1\u001b[39m, \u001b[39m2\u001b[39m, \u001b[39m3\u001b[39m, \u001b[39m4\u001b[39m, \u001b[39m5\u001b[39m)\n\u001b[0;32m----> 2\u001b[0m my_tuple[\u001b[39m1\u001b[39;49m] \u001b[39m=\u001b[39m \u001b[39m\"\u001b[39m\u001b[39mREPLACE\u001b[39m\u001b[39m\"\u001b[39m     \u001b[39m# ERROR, because tuples are immutable\u001b[39;00m\n",
      "\u001b[0;31mTypeError\u001b[0m: 'tuple' object does not support item assignment"
     ]
    }
   ],
   "source": [
    "my_tuple = (1, 2, 3, 4, 5)\n",
    "my_tuple[1] = \"REPLACE\"     # ERROR, because tuples are immutable"
   ]
  },
  {
   "attachments": {},
   "cell_type": "markdown",
   "metadata": {},
   "source": [
    "## Dictionary examples"
   ]
  },
  {
   "cell_type": "code",
   "execution_count": 7,
   "metadata": {},
   "outputs": [
    {
     "name": "stdout",
     "output_type": "stream",
     "text": [
      "bK3h%UJd&\n",
      "NEWbK3h%UJd&\n"
     ]
    }
   ],
   "source": [
    "keys = {\"key1\":\"bK3h%UJd&\", \"key2\":\"Jl1&oPa\"}\n",
    "print(keys[\"key1\"])\n",
    "\n",
    "keys[\"key1\"] = \"NEWbK3h%UJd&\"\n",
    "print(keys[\"key1\"])"
   ]
  },
  {
   "attachments": {},
   "cell_type": "markdown",
   "metadata": {},
   "source": [
    "## Boolean examples (TRUE and FALSE)"
   ]
  },
  {
   "cell_type": "code",
   "execution_count": 8,
   "metadata": {},
   "outputs": [
    {
     "name": "stdout",
     "output_type": "stream",
     "text": [
      "True\n",
      "False\n",
      "True\n",
      "True\n"
     ]
    }
   ],
   "source": [
    "print(1 < 2)\n",
    "print(1 < 1)\n",
    "print(1 == 1)\n",
    "print(1 >= 1)"
   ]
  }
 ],
 "metadata": {
  "kernelspec": {
   "display_name": "Python 3",
   "language": "python",
   "name": "python3"
  },
  "language_info": {
   "codemirror_mode": {
    "name": "ipython",
    "version": 3
   },
   "file_extension": ".py",
   "mimetype": "text/x-python",
   "name": "python",
   "nbconvert_exporter": "python",
   "pygments_lexer": "ipython3",
   "version": "3.10.9"
  },
  "orig_nbformat": 4,
  "vscode": {
   "interpreter": {
    "hash": "916dbcbb3f70747c44a77c7bcd40155683ae19c65e1c03b4aa3499c5328201f1"
   }
  }
 },
 "nbformat": 4,
 "nbformat_minor": 2
}
